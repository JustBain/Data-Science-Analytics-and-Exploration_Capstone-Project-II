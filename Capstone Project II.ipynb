{
 "cells": [
  {
   "cell_type": "markdown",
   "metadata": {},
   "source": [
    "Exploratory data analysis (EDA) is a crucial component of data science which allows one to understand the basics of what your data looks like and what kinds of questions might be answered by them. For this task, we are going to clean, sanitize and explore our data. Using the movies dataset, answer the following questions by writing code in the cells.\n"
   ]
  },
  {
   "cell_type": "code",
   "execution_count": 2,
   "metadata": {},
   "outputs": [
    {
     "name": "stderr",
     "output_type": "stream",
     "text": [
      "C:\\Users\\Lenovo\\Anaconda3\\lib\\site-packages\\statsmodels\\tools\\_testing.py:19: FutureWarning: pandas.util.testing is deprecated. Use the functions in the public API at pandas.testing instead.\n",
      "  import pandas.util.testing as tm\n",
      "UsageError: Line magic function `%` not found.\n"
     ]
    }
   ],
   "source": [
    "# Importing the required packages here\n",
    "\n",
    "import numpy as np\n",
    "import pandas as pd\n",
    "import seaborn as sns\n",
    "import ast, json\n",
    "\n",
    "from datetime import datetime\n",
    "import matplotlib.pyplot as plt\n",
    "% matplotlib inline\n"
   ]
  },
  {
   "cell_type": "code",
   "execution_count": 103,
   "metadata": {},
   "outputs": [
    {
     "name": "stdout",
     "output_type": "stream",
     "text": [
      "    Income  Limit  Rating  Cards  Age  Education  Gender Student Married  \\\n",
      "0   14.891   3606     283      2   34         11    Male      No     Yes   \n",
      "1  106.025   6645     483      3   82         15  Female     Yes     Yes   \n",
      "2  104.593   7075     514      4   71         11    Male      No      No   \n",
      "3  148.924   9504     681      3   36         11  Female      No      No   \n",
      "4   55.882   4897     357      2   68         16    Male      No     Yes   \n",
      "\n",
      "   Ethnicity  Balance  \n",
      "0  Caucasian      333  \n",
      "1      Asian      903  \n",
      "2      Asian      580  \n",
      "3      Asian      964  \n",
      "4  Caucasian      331  \n",
      "      budget                                             genres  \\\n",
      "0  237000000  [{\"id\": 28, \"name\": \"Action\"}, {\"id\": 12, \"nam...   \n",
      "1  300000000  [{\"id\": 12, \"name\": \"Adventure\"}, {\"id\": 14, \"...   \n",
      "2  245000000  [{\"id\": 28, \"name\": \"Action\"}, {\"id\": 12, \"nam...   \n",
      "3  250000000  [{\"id\": 28, \"name\": \"Action\"}, {\"id\": 80, \"nam...   \n",
      "4  260000000  [{\"id\": 28, \"name\": \"Action\"}, {\"id\": 12, \"nam...   \n",
      "\n",
      "                                       homepage      id  \\\n",
      "0                   http://www.avatarmovie.com/   19995   \n",
      "1  http://disney.go.com/disneypictures/pirates/     285   \n",
      "2   http://www.sonypictures.com/movies/spectre/  206647   \n",
      "3            http://www.thedarkknightrises.com/   49026   \n",
      "4          http://movies.disney.com/john-carter   49529   \n",
      "\n",
      "                                            keywords original_language  \\\n",
      "0  [{\"id\": 1463, \"name\": \"culture clash\"}, {\"id\":...                en   \n",
      "1  [{\"id\": 270, \"name\": \"ocean\"}, {\"id\": 726, \"na...                en   \n",
      "2  [{\"id\": 470, \"name\": \"spy\"}, {\"id\": 818, \"name...                en   \n",
      "3  [{\"id\": 849, \"name\": \"dc comics\"}, {\"id\": 853,...                en   \n",
      "4  [{\"id\": 818, \"name\": \"based on novel\"}, {\"id\":...                en   \n",
      "\n",
      "                             original_title  \\\n",
      "0                                    Avatar   \n",
      "1  Pirates of the Caribbean: At World's End   \n",
      "2                                   Spectre   \n",
      "3                     The Dark Knight Rises   \n",
      "4                               John Carter   \n",
      "\n",
      "                                            overview  popularity  \\\n",
      "0  In the 22nd century, a paraplegic Marine is di...  150.437577   \n",
      "1  Captain Barbossa, long believed to be dead, ha...  139.082615   \n",
      "2  A cryptic message from Bondâs past sends him...  107.376788   \n",
      "3  Following the death of District Attorney Harve...  112.312950   \n",
      "4  John Carter is a war-weary, former military ca...   43.926995   \n",
      "\n",
      "                                production_companies  \\\n",
      "0  [{\"name\": \"Ingenious Film Partners\", \"id\": 289...   \n",
      "1  [{\"name\": \"Walt Disney Pictures\", \"id\": 2}, {\"...   \n",
      "2  [{\"name\": \"Columbia Pictures\", \"id\": 5}, {\"nam...   \n",
      "3  [{\"name\": \"Legendary Pictures\", \"id\": 923}, {\"...   \n",
      "4        [{\"name\": \"Walt Disney Pictures\", \"id\": 2}]   \n",
      "\n",
      "                                production_countries release_date     revenue  \\\n",
      "0  [{\"iso_3166_1\": \"US\", \"name\": \"United States o...   2009-12-10  2787965087   \n",
      "1  [{\"iso_3166_1\": \"US\", \"name\": \"United States o...   2007-05-19   961000000   \n",
      "2  [{\"iso_3166_1\": \"GB\", \"name\": \"United Kingdom\"...   2015-10-26   880674609   \n",
      "3  [{\"iso_3166_1\": \"US\", \"name\": \"United States o...   2012-07-16  1084939099   \n",
      "4  [{\"iso_3166_1\": \"US\", \"name\": \"United States o...   2012-03-07   284139100   \n",
      "\n",
      "   runtime                                   spoken_languages    status  \\\n",
      "0    162.0  [{\"iso_639_1\": \"en\", \"name\": \"English\"}, {\"iso...  Released   \n",
      "1    169.0           [{\"iso_639_1\": \"en\", \"name\": \"English\"}]  Released   \n",
      "2    148.0  [{\"iso_639_1\": \"fr\", \"name\": \"Français\"}, {\"is...  Released   \n",
      "3    165.0           [{\"iso_639_1\": \"en\", \"name\": \"English\"}]  Released   \n",
      "4    132.0           [{\"iso_639_1\": \"en\", \"name\": \"English\"}]  Released   \n",
      "\n",
      "                                          tagline  \\\n",
      "0                     Enter the World of Pandora.   \n",
      "1  At the end of the world, the adventure begins.   \n",
      "2                           A Plan No One Escapes   \n",
      "3                                 The Legend Ends   \n",
      "4            Lost in our world, found in another.   \n",
      "\n",
      "                                      title  vote_average  vote_count  \n",
      "0                                    Avatar           7.2       11800  \n",
      "1  Pirates of the Caribbean: At World's End           6.9        4500  \n",
      "2                                   Spectre           6.3        4466  \n",
      "3                     The Dark Knight Rises           7.6        9106  \n",
      "4                               John Carter           6.1        2124  \n"
     ]
    }
   ],
   "source": [
    "#### load the movie and credit and create their dataframes\n",
    "\n",
    "# The incorrect movies file was uploaded to Dropbox (with missing columns), this \n",
    "# version was found on Discord and will be used for the task\n",
    "\n",
    "credits_df = pd.read_csv(\"Credit.txt\", delim_whitespace=True)\n",
    "movies_df = pd.read_csv(\"movies_1_1.csv\", encoding = 'unicode_escape')\n",
    "\n",
    "print(credits_df.head())\n",
    "print(movies_df.head())"
   ]
  },
  {
   "cell_type": "markdown",
   "metadata": {},
   "source": [
    "### Data Cleansing \n",
    "#### Clean the data. Identify columns that are redundant or unnecessary.\n",
    "\n",
    "It is always easier to make your decisions based on data which is relevant and concise. Remove the following columns ['keywords', 'homepage', 'status', 'tagline', 'original_language', 'homepage', 'overview', 'production_companies', 'original_title', 'title_y'] from the data set as they will not be used in the analysis."
   ]
  },
  {
   "cell_type": "code",
   "execution_count": 104,
   "metadata": {},
   "outputs": [],
   "source": [
    "# code here\n",
    "\n",
    "# There is no 'title_y' column\n",
    "\n",
    "movies_df.drop(['keywords', 'homepage', 'status', \n",
    "                'tagline', 'original_language', 'overview', \n",
    "                'production_companies', 'original_title'], \n",
    "                axis = 1, inplace=True)"
   ]
  },
  {
   "cell_type": "code",
   "execution_count": 105,
   "metadata": {},
   "outputs": [
    {
     "data": {
      "text/plain": [
       "(4803, 12)"
      ]
     },
     "execution_count": 105,
     "metadata": {},
     "output_type": "execute_result"
    }
   ],
   "source": [
    "movies_df.shape"
   ]
  },
  {
   "cell_type": "markdown",
   "metadata": {},
   "source": [
    "#### Remove any duplicate rows"
   ]
  },
  {
   "cell_type": "code",
   "execution_count": 106,
   "metadata": {},
   "outputs": [
    {
     "data": {
      "text/plain": [
       "(4797, 12)"
      ]
     },
     "execution_count": 106,
     "metadata": {},
     "output_type": "execute_result"
    }
   ],
   "source": [
    "# code here\n",
    "\n",
    "movies_df.drop_duplicates(subset='title', keep=False, inplace=True)\n",
    "\n",
    "# The df shape shows a reduction in row count from the previous cell,\n",
    "# indicating the duplicates have been removed successfully\n",
    "\n",
    "movies_df.shape"
   ]
  },
  {
   "cell_type": "markdown",
   "metadata": {},
   "source": [
    "#### Some movies in the database have zero budget or zero revenue which implies that their values have not been recorded or some information is missing. Discard such entries from the dataframe."
   ]
  },
  {
   "cell_type": "code",
   "execution_count": 113,
   "metadata": {},
   "outputs": [
    {
     "name": "stdout",
     "output_type": "stream",
     "text": [
      "(3226, 12)\n"
     ]
    }
   ],
   "source": [
    "# Code here \n",
    "\n",
    "\n",
    "movies_df.drop(movies_df[movies_df.budget < 1].index, inplace=True)\n",
    "\n",
    "movies_df.drop(movies_df[movies_df.revenue < 1].index, inplace=True)\n",
    "\n",
    "print(movies_df.shape)\n",
    "\n",
    "# The df shape shows a reduction in row count from the previous cell,\n",
    "# indicating the zero budget/revenue records have been removed successfully"
   ]
  },
  {
   "cell_type": "markdown",
   "metadata": {},
   "source": [
    "#### To manipulate the columns easily, it is important that we make use of the python objects. Change the release date column into Date format and extract the year from the date. This will help us in analysing yearly data."
   ]
  },
  {
   "cell_type": "code",
   "execution_count": 122,
   "metadata": {},
   "outputs": [],
   "source": [
    "# Change the release_date column to DateTime column\n",
    "\n",
    "movies_df['DateTime'] = pd.to_datetime(movies_df['release_date'], format = '%Y/%m/%d')\n",
    "\n",
    "# Extract the release year from every release date\n",
    "\n",
    "movies_df['DateTime_year'] = pd.DatetimeIndex(movies_df['DateTime']).year"
   ]
  },
  {
   "cell_type": "markdown",
   "metadata": {},
   "source": [
    "#### Change budget and revenue columns format to integer using numpy’s int64 method."
   ]
  },
  {
   "cell_type": "code",
   "execution_count": 130,
   "metadata": {},
   "outputs": [
    {
     "data": {
      "text/plain": [
       "0       237000000\n",
       "1       300000000\n",
       "2       245000000\n",
       "3       250000000\n",
       "4       260000000\n",
       "          ...    \n",
       "4773        27000\n",
       "4788        12000\n",
       "4792        20000\n",
       "4796         7000\n",
       "4798       220000\n",
       "Name: budget, Length: 3226, dtype: int64"
      ]
     },
     "execution_count": 130,
     "metadata": {},
     "output_type": "execute_result"
    }
   ],
   "source": [
    "# code here \n",
    "\n",
    "# NOTE - budget and revenue columns are already int64 type, instructions unclear?\n",
    "\n",
    "movies_df['budget']"
   ]
  },
  {
   "cell_type": "markdown",
   "metadata": {},
   "source": [
    "On checking the dataset, we see that genres, keywords, production_companies, production_countries, spoken_languages are in the JSON format which will make it difficult to manipulate the dataframe. Now let’s flatten these columns into a format that can be easily interpreted.\n",
    "\n",
    "I will help you convert them into strings and later convert them into lists. Writing a generic function to parse JSON columns."
   ]
  },
  {
   "cell_type": "code",
   "execution_count": 138,
   "metadata": {},
   "outputs": [
    {
     "data": {
      "text/html": [
       "<div>\n",
       "<style scoped>\n",
       "    .dataframe tbody tr th:only-of-type {\n",
       "        vertical-align: middle;\n",
       "    }\n",
       "\n",
       "    .dataframe tbody tr th {\n",
       "        vertical-align: top;\n",
       "    }\n",
       "\n",
       "    .dataframe thead th {\n",
       "        text-align: right;\n",
       "    }\n",
       "</style>\n",
       "<table border=\"1\" class=\"dataframe\">\n",
       "  <thead>\n",
       "    <tr style=\"text-align: right;\">\n",
       "      <th></th>\n",
       "      <th>budget</th>\n",
       "      <th>genres</th>\n",
       "      <th>id</th>\n",
       "      <th>popularity</th>\n",
       "      <th>production_countries</th>\n",
       "      <th>release_date</th>\n",
       "      <th>revenue</th>\n",
       "      <th>runtime</th>\n",
       "      <th>spoken_languages</th>\n",
       "      <th>title</th>\n",
       "      <th>vote_average</th>\n",
       "      <th>vote_count</th>\n",
       "      <th>DateTime</th>\n",
       "      <th>DateTime_year</th>\n",
       "    </tr>\n",
       "  </thead>\n",
       "  <tbody>\n",
       "    <tr>\n",
       "      <th>0</th>\n",
       "      <td>237000000</td>\n",
       "      <td>['Action', 'Adventure', 'Fantasy', 'Science Fi...</td>\n",
       "      <td>19995</td>\n",
       "      <td>150.437577</td>\n",
       "      <td>['United States of America', 'United Kingdom']</td>\n",
       "      <td>2009-12-10</td>\n",
       "      <td>2787965087</td>\n",
       "      <td>162.0</td>\n",
       "      <td>['English', 'Español']</td>\n",
       "      <td>Avatar</td>\n",
       "      <td>7.2</td>\n",
       "      <td>11800</td>\n",
       "      <td>2009-12-10</td>\n",
       "      <td>2009</td>\n",
       "    </tr>\n",
       "    <tr>\n",
       "      <th>1</th>\n",
       "      <td>300000000</td>\n",
       "      <td>['Adventure', 'Fantasy', 'Action']</td>\n",
       "      <td>285</td>\n",
       "      <td>139.082615</td>\n",
       "      <td>['United States of America']</td>\n",
       "      <td>2007-05-19</td>\n",
       "      <td>961000000</td>\n",
       "      <td>169.0</td>\n",
       "      <td>['English']</td>\n",
       "      <td>Pirates of the Caribbean: At World's End</td>\n",
       "      <td>6.9</td>\n",
       "      <td>4500</td>\n",
       "      <td>2007-05-19</td>\n",
       "      <td>2007</td>\n",
       "    </tr>\n",
       "    <tr>\n",
       "      <th>2</th>\n",
       "      <td>245000000</td>\n",
       "      <td>['Action', 'Adventure', 'Crime']</td>\n",
       "      <td>206647</td>\n",
       "      <td>107.376788</td>\n",
       "      <td>['United Kingdom', 'United States of America']</td>\n",
       "      <td>2015-10-26</td>\n",
       "      <td>880674609</td>\n",
       "      <td>148.0</td>\n",
       "      <td>['Français', 'English', 'Español', 'Italiano',...</td>\n",
       "      <td>Spectre</td>\n",
       "      <td>6.3</td>\n",
       "      <td>4466</td>\n",
       "      <td>2015-10-26</td>\n",
       "      <td>2015</td>\n",
       "    </tr>\n",
       "    <tr>\n",
       "      <th>3</th>\n",
       "      <td>250000000</td>\n",
       "      <td>['Action', 'Crime', 'Drama', 'Thriller']</td>\n",
       "      <td>49026</td>\n",
       "      <td>112.312950</td>\n",
       "      <td>['United States of America']</td>\n",
       "      <td>2012-07-16</td>\n",
       "      <td>1084939099</td>\n",
       "      <td>165.0</td>\n",
       "      <td>['English']</td>\n",
       "      <td>The Dark Knight Rises</td>\n",
       "      <td>7.6</td>\n",
       "      <td>9106</td>\n",
       "      <td>2012-07-16</td>\n",
       "      <td>2012</td>\n",
       "    </tr>\n",
       "    <tr>\n",
       "      <th>4</th>\n",
       "      <td>260000000</td>\n",
       "      <td>['Action', 'Adventure', 'Science Fiction']</td>\n",
       "      <td>49529</td>\n",
       "      <td>43.926995</td>\n",
       "      <td>['United States of America']</td>\n",
       "      <td>2012-03-07</td>\n",
       "      <td>284139100</td>\n",
       "      <td>132.0</td>\n",
       "      <td>['English']</td>\n",
       "      <td>John Carter</td>\n",
       "      <td>6.1</td>\n",
       "      <td>2124</td>\n",
       "      <td>2012-03-07</td>\n",
       "      <td>2012</td>\n",
       "    </tr>\n",
       "  </tbody>\n",
       "</table>\n",
       "</div>"
      ],
      "text/plain": [
       "      budget                                             genres      id  \\\n",
       "0  237000000  ['Action', 'Adventure', 'Fantasy', 'Science Fi...   19995   \n",
       "1  300000000                 ['Adventure', 'Fantasy', 'Action']     285   \n",
       "2  245000000                   ['Action', 'Adventure', 'Crime']  206647   \n",
       "3  250000000           ['Action', 'Crime', 'Drama', 'Thriller']   49026   \n",
       "4  260000000         ['Action', 'Adventure', 'Science Fiction']   49529   \n",
       "\n",
       "   popularity                            production_countries release_date  \\\n",
       "0  150.437577  ['United States of America', 'United Kingdom']   2009-12-10   \n",
       "1  139.082615                    ['United States of America']   2007-05-19   \n",
       "2  107.376788  ['United Kingdom', 'United States of America']   2015-10-26   \n",
       "3  112.312950                    ['United States of America']   2012-07-16   \n",
       "4   43.926995                    ['United States of America']   2012-03-07   \n",
       "\n",
       "      revenue  runtime                                   spoken_languages  \\\n",
       "0  2787965087    162.0                             ['English', 'Español']   \n",
       "1   961000000    169.0                                        ['English']   \n",
       "2   880674609    148.0  ['Français', 'English', 'Español', 'Italiano',...   \n",
       "3  1084939099    165.0                                        ['English']   \n",
       "4   284139100    132.0                                        ['English']   \n",
       "\n",
       "                                      title  vote_average  vote_count  \\\n",
       "0                                    Avatar           7.2       11800   \n",
       "1  Pirates of the Caribbean: At World's End           6.9        4500   \n",
       "2                                   Spectre           6.3        4466   \n",
       "3                     The Dark Knight Rises           7.6        9106   \n",
       "4                               John Carter           6.1        2124   \n",
       "\n",
       "    DateTime  DateTime_year  \n",
       "0 2009-12-10           2009  \n",
       "1 2007-05-19           2007  \n",
       "2 2015-10-26           2015  \n",
       "3 2012-07-16           2012  \n",
       "4 2012-03-07           2012  "
      ]
     },
     "execution_count": 138,
     "metadata": {},
     "output_type": "execute_result"
    }
   ],
   "source": [
    "def parse_col_json(column, key):\n",
    "    \"\"\"\n",
    "    Args:\n",
    "        column: string\n",
    "            name of the column to be processed.\n",
    "        key: string\n",
    "            name of the dictionary key which needs to be extracted\n",
    "    \"\"\"\n",
    "    for index,i in zip(movies_df.index,movies_df[column].apply(json.loads)):\n",
    "        list1=[]\n",
    "        for j in range(len(i)):\n",
    "            list1.append((i[j][key]))# the key 'name' contains the name of the genre\n",
    "        movies_df.loc[index,column]=str(list1)\n",
    "    \n",
    "parse_col_json('genres', 'name')\n",
    "parse_col_json('spoken_languages', 'name')\n",
    "#parse_col_json('cast', 'name')    # There are no columns called Cast int the csv file\n",
    "parse_col_json('production_countries', 'name')\n",
    "\n",
    "movies_df.head()"
   ]
  },
  {
   "cell_type": "markdown",
   "metadata": {},
   "source": [
    "### Now onto the exploration\n",
    "\n",
    "#### Identify relationships between variables / features\n",
    "\n",
    "The main goal here is to identify and create relationships which can help you to build ideas. I have defined questions which can help you identify some relationships to explore."
   ]
  },
  {
   "cell_type": "markdown",
   "metadata": {},
   "source": [
    "#### Which are the 5 most expensive movies? How do the most expensive and cheapest movies compare? Exploring the most expensive movies help you explore if some movies are worth the money spent on them based on their performance and revenue generated."
   ]
  },
  {
   "cell_type": "code",
   "execution_count": 157,
   "metadata": {},
   "outputs": [
    {
     "data": {
      "image/png": "[encoded data removed]",
      "text/plain": [
       "<Figure size 432x288 with 1 Axes>"
      ]
     },
     "metadata": {
      "needs_background": "light"
     },
     "output_type": "display_data"
    }
   ],
   "source": [
    "# Code here\n",
    "\n",
    "budget_list = movies_df.sort_values(['budget'], ascending=False)\n",
    "\n",
    "budget_list.loc[:, ['budget', 'title', 'revenue']]\n",
    "\n",
    "ax1 = budget_list.plot.scatter(x='title', y='budget', c='DarkBlue')\n",
    "ax1\n",
    "ax2 = budget_list.plot.scatter(x='title', y='revenue', c='DarkRed', ax=ax1)"
   ]
  },
  {
   "cell_type": "markdown",
   "metadata": {},
   "source": [
    "#### What are the top 5 most profitable movies? Compare the min and max profits. The comparison helps us indentify the different approaches which failed and succeeded. Subtracting the budget from the revenue generated, will return the profit earned."
   ]
  },
  {
   "cell_type": "code",
   "execution_count": 159,
   "metadata": {},
   "outputs": [
    {
     "data": {
      "text/html": [
       "<div>\n",
       "<style scoped>\n",
       "    .dataframe tbody tr th:only-of-type {\n",
       "        vertical-align: middle;\n",
       "    }\n",
       "\n",
       "    .dataframe tbody tr th {\n",
       "        vertical-align: top;\n",
       "    }\n",
       "\n",
       "    .dataframe thead th {\n",
       "        text-align: right;\n",
       "    }\n",
       "</style>\n",
       "<table border=\"1\" class=\"dataframe\">\n",
       "  <thead>\n",
       "    <tr style=\"text-align: right;\">\n",
       "      <th></th>\n",
       "      <th>revenue</th>\n",
       "      <th>title</th>\n",
       "      <th>budget</th>\n",
       "    </tr>\n",
       "  </thead>\n",
       "  <tbody>\n",
       "    <tr>\n",
       "      <th>0</th>\n",
       "      <td>2787965087</td>\n",
       "      <td>Avatar</td>\n",
       "      <td>237000000</td>\n",
       "    </tr>\n",
       "    <tr>\n",
       "      <th>25</th>\n",
       "      <td>1845034188</td>\n",
       "      <td>Titanic</td>\n",
       "      <td>200000000</td>\n",
       "    </tr>\n",
       "    <tr>\n",
       "      <th>16</th>\n",
       "      <td>1519557910</td>\n",
       "      <td>The Avengers</td>\n",
       "      <td>220000000</td>\n",
       "    </tr>\n",
       "    <tr>\n",
       "      <th>28</th>\n",
       "      <td>1513528810</td>\n",
       "      <td>Jurassic World</td>\n",
       "      <td>150000000</td>\n",
       "    </tr>\n",
       "    <tr>\n",
       "      <th>44</th>\n",
       "      <td>1506249360</td>\n",
       "      <td>Furious 7</td>\n",
       "      <td>190000000</td>\n",
       "    </tr>\n",
       "    <tr>\n",
       "      <th>...</th>\n",
       "      <td>...</td>\n",
       "      <td>...</td>\n",
       "      <td>...</td>\n",
       "    </tr>\n",
       "    <tr>\n",
       "      <th>3131</th>\n",
       "      <td>11</td>\n",
       "      <td>Of Horses and Men</td>\n",
       "      <td>10</td>\n",
       "    </tr>\n",
       "    <tr>\n",
       "      <th>2933</th>\n",
       "      <td>11</td>\n",
       "      <td>F.I.S.T.</td>\n",
       "      <td>11</td>\n",
       "    </tr>\n",
       "    <tr>\n",
       "      <th>3419</th>\n",
       "      <td>7</td>\n",
       "      <td>Bran Nue Dae</td>\n",
       "      <td>7</td>\n",
       "    </tr>\n",
       "    <tr>\n",
       "      <th>3875</th>\n",
       "      <td>7</td>\n",
       "      <td>Dreaming of Joseph Lees</td>\n",
       "      <td>2000000</td>\n",
       "    </tr>\n",
       "    <tr>\n",
       "      <th>3372</th>\n",
       "      <td>5</td>\n",
       "      <td>Split Second</td>\n",
       "      <td>7</td>\n",
       "    </tr>\n",
       "  </tbody>\n",
       "</table>\n",
       "<p>3226 rows × 3 columns</p>\n",
       "</div>"
      ],
      "text/plain": [
       "         revenue                    title     budget\n",
       "0     2787965087                   Avatar  237000000\n",
       "25    1845034188                  Titanic  200000000\n",
       "16    1519557910             The Avengers  220000000\n",
       "28    1513528810           Jurassic World  150000000\n",
       "44    1506249360                Furious 7  190000000\n",
       "...          ...                      ...        ...\n",
       "3131          11        Of Horses and Men         10\n",
       "2933          11                 F.I.S.T.         11\n",
       "3419           7             Bran Nue Dae          7\n",
       "3875           7  Dreaming of Joseph Lees    2000000\n",
       "3372           5             Split Second          7\n",
       "\n",
       "[3226 rows x 3 columns]"
      ]
     },
     "execution_count": 159,
     "metadata": {},
     "output_type": "execute_result"
    }
   ],
   "source": [
    "# code here\n",
    "\n",
    "revenue_list = movies_df.sort_values(['revenue'], ascending=False)\n",
    "\n",
    "revenue_list.loc[:, ['revenue', 'title', 'budget']]\n"
   ]
  },
  {
   "cell_type": "markdown",
   "metadata": {},
   "source": [
    "#### Find the most talked about movies. Sort the dataframe based on the popularity column."
   ]
  },
  {
   "cell_type": "markdown",
   "metadata": {},
   "source": [
    "#### Find Movies which are rated above 7\n",
    "\n"
   ]
  },
  {
   "cell_type": "code",
   "execution_count": 169,
   "metadata": {},
   "outputs": [
    {
     "data": {
      "text/html": [
       "<div>\n",
       "<style scoped>\n",
       "    .dataframe tbody tr th:only-of-type {\n",
       "        vertical-align: middle;\n",
       "    }\n",
       "\n",
       "    .dataframe tbody tr th {\n",
       "        vertical-align: top;\n",
       "    }\n",
       "\n",
       "    .dataframe thead th {\n",
       "        text-align: right;\n",
       "    }\n",
       "</style>\n",
       "<table border=\"1\" class=\"dataframe\">\n",
       "  <thead>\n",
       "    <tr style=\"text-align: right;\">\n",
       "      <th></th>\n",
       "      <th>budget</th>\n",
       "      <th>genres</th>\n",
       "      <th>id</th>\n",
       "      <th>popularity</th>\n",
       "      <th>production_countries</th>\n",
       "      <th>release_date</th>\n",
       "      <th>revenue</th>\n",
       "      <th>runtime</th>\n",
       "      <th>spoken_languages</th>\n",
       "      <th>title</th>\n",
       "      <th>vote_average</th>\n",
       "      <th>vote_count</th>\n",
       "      <th>DateTime</th>\n",
       "      <th>DateTime_year</th>\n",
       "    </tr>\n",
       "  </thead>\n",
       "  <tbody>\n",
       "    <tr>\n",
       "      <th>546</th>\n",
       "      <td>74000000</td>\n",
       "      <td>['Family', 'Animation', 'Adventure', 'Comedy']</td>\n",
       "      <td>211672</td>\n",
       "      <td>875.581305</td>\n",
       "      <td>['United States of America']</td>\n",
       "      <td>2015-06-17</td>\n",
       "      <td>1156730962</td>\n",
       "      <td>91.0</td>\n",
       "      <td>['English']</td>\n",
       "      <td>Minions</td>\n",
       "      <td>6.4</td>\n",
       "      <td>4571</td>\n",
       "      <td>2015-06-17</td>\n",
       "      <td>2015</td>\n",
       "    </tr>\n",
       "    <tr>\n",
       "      <th>95</th>\n",
       "      <td>165000000</td>\n",
       "      <td>['Adventure', 'Drama', 'Science Fiction']</td>\n",
       "      <td>157336</td>\n",
       "      <td>724.247784</td>\n",
       "      <td>['Canada', 'United States of America', 'United...</td>\n",
       "      <td>2014-11-05</td>\n",
       "      <td>675120017</td>\n",
       "      <td>169.0</td>\n",
       "      <td>['English']</td>\n",
       "      <td>Interstellar</td>\n",
       "      <td>8.1</td>\n",
       "      <td>10867</td>\n",
       "      <td>2014-11-05</td>\n",
       "      <td>2014</td>\n",
       "    </tr>\n",
       "    <tr>\n",
       "      <th>788</th>\n",
       "      <td>58000000</td>\n",
       "      <td>['Action', 'Adventure', 'Comedy']</td>\n",
       "      <td>293660</td>\n",
       "      <td>514.569956</td>\n",
       "      <td>['United States of America']</td>\n",
       "      <td>2016-02-09</td>\n",
       "      <td>783112979</td>\n",
       "      <td>108.0</td>\n",
       "      <td>['English']</td>\n",
       "      <td>Deadpool</td>\n",
       "      <td>7.4</td>\n",
       "      <td>10995</td>\n",
       "      <td>2016-02-09</td>\n",
       "      <td>2016</td>\n",
       "    </tr>\n",
       "    <tr>\n",
       "      <th>94</th>\n",
       "      <td>170000000</td>\n",
       "      <td>['Action', 'Science Fiction', 'Adventure']</td>\n",
       "      <td>118340</td>\n",
       "      <td>481.098624</td>\n",
       "      <td>['United Kingdom', 'United States of America']</td>\n",
       "      <td>2014-07-30</td>\n",
       "      <td>773328629</td>\n",
       "      <td>121.0</td>\n",
       "      <td>['English']</td>\n",
       "      <td>Guardians of the Galaxy</td>\n",
       "      <td>7.9</td>\n",
       "      <td>9742</td>\n",
       "      <td>2014-07-30</td>\n",
       "      <td>2014</td>\n",
       "    </tr>\n",
       "    <tr>\n",
       "      <th>127</th>\n",
       "      <td>150000000</td>\n",
       "      <td>['Action', 'Adventure', 'Science Fiction', 'Th...</td>\n",
       "      <td>76341</td>\n",
       "      <td>434.278564</td>\n",
       "      <td>['Australia', 'United States of America']</td>\n",
       "      <td>2015-05-13</td>\n",
       "      <td>378858340</td>\n",
       "      <td>120.0</td>\n",
       "      <td>['English']</td>\n",
       "      <td>Mad Max: Fury Road</td>\n",
       "      <td>7.2</td>\n",
       "      <td>9427</td>\n",
       "      <td>2015-05-13</td>\n",
       "      <td>2015</td>\n",
       "    </tr>\n",
       "    <tr>\n",
       "      <th>...</th>\n",
       "      <td>...</td>\n",
       "      <td>...</td>\n",
       "      <td>...</td>\n",
       "      <td>...</td>\n",
       "      <td>...</td>\n",
       "      <td>...</td>\n",
       "      <td>...</td>\n",
       "      <td>...</td>\n",
       "      <td>...</td>\n",
       "      <td>...</td>\n",
       "      <td>...</td>\n",
       "      <td>...</td>\n",
       "      <td>...</td>\n",
       "      <td>...</td>\n",
       "    </tr>\n",
       "    <tr>\n",
       "      <th>340</th>\n",
       "      <td>98000000</td>\n",
       "      <td>['Action', 'Adventure']</td>\n",
       "      <td>1408</td>\n",
       "      <td>7.029308</td>\n",
       "      <td>['France', 'Germany', 'Italy', 'United States ...</td>\n",
       "      <td>1995-12-22</td>\n",
       "      <td>10017322</td>\n",
       "      <td>119.0</td>\n",
       "      <td>['English', 'Latin']</td>\n",
       "      <td>Cutthroat Island</td>\n",
       "      <td>5.7</td>\n",
       "      <td>136</td>\n",
       "      <td>1995-12-22</td>\n",
       "      <td>1995</td>\n",
       "    </tr>\n",
       "    <tr>\n",
       "      <th>839</th>\n",
       "      <td>55000000</td>\n",
       "      <td>['History', 'Drama', 'Music']</td>\n",
       "      <td>8818</td>\n",
       "      <td>7.027139</td>\n",
       "      <td>['United States of America', 'Hungary']</td>\n",
       "      <td>1996-12-14</td>\n",
       "      <td>141047179</td>\n",
       "      <td>134.0</td>\n",
       "      <td>['English', 'Español']</td>\n",
       "      <td>Evita</td>\n",
       "      <td>5.9</td>\n",
       "      <td>120</td>\n",
       "      <td>1996-12-14</td>\n",
       "      <td>1996</td>\n",
       "    </tr>\n",
       "    <tr>\n",
       "      <th>1939</th>\n",
       "      <td>25000000</td>\n",
       "      <td>['Action', 'Adventure', 'Fantasy', 'Horror']</td>\n",
       "      <td>168705</td>\n",
       "      <td>7.008216</td>\n",
       "      <td>['United States of America']</td>\n",
       "      <td>2005-10-22</td>\n",
       "      <td>2405420</td>\n",
       "      <td>95.0</td>\n",
       "      <td>['English', 'Português']</td>\n",
       "      <td>BloodRayne</td>\n",
       "      <td>3.5</td>\n",
       "      <td>118</td>\n",
       "      <td>2005-10-22</td>\n",
       "      <td>2005</td>\n",
       "    </tr>\n",
       "    <tr>\n",
       "      <th>1905</th>\n",
       "      <td>25000000</td>\n",
       "      <td>['Drama', 'Horror', 'Mystery', 'Thriller']</td>\n",
       "      <td>43931</td>\n",
       "      <td>7.001176</td>\n",
       "      <td>['United States of America']</td>\n",
       "      <td>2010-10-08</td>\n",
       "      <td>19829957</td>\n",
       "      <td>107.0</td>\n",
       "      <td>['English']</td>\n",
       "      <td>My Soul to Take</td>\n",
       "      <td>5.2</td>\n",
       "      <td>147</td>\n",
       "      <td>2010-10-08</td>\n",
       "      <td>2010</td>\n",
       "    </tr>\n",
       "    <tr>\n",
       "      <th>3212</th>\n",
       "      <td>9250000</td>\n",
       "      <td>['Drama', 'Music', 'Romance']</td>\n",
       "      <td>16323</td>\n",
       "      <td>7.000949</td>\n",
       "      <td>['United States of America']</td>\n",
       "      <td>1979-11-07</td>\n",
       "      <td>29174648</td>\n",
       "      <td>125.0</td>\n",
       "      <td>['English']</td>\n",
       "      <td>The Rose</td>\n",
       "      <td>6.8</td>\n",
       "      <td>28</td>\n",
       "      <td>1979-11-07</td>\n",
       "      <td>1979</td>\n",
       "    </tr>\n",
       "  </tbody>\n",
       "</table>\n",
       "<p>2707 rows × 14 columns</p>\n",
       "</div>"
      ],
      "text/plain": [
       "         budget                                             genres      id  \\\n",
       "546    74000000     ['Family', 'Animation', 'Adventure', 'Comedy']  211672   \n",
       "95    165000000          ['Adventure', 'Drama', 'Science Fiction']  157336   \n",
       "788    58000000                  ['Action', 'Adventure', 'Comedy']  293660   \n",
       "94    170000000         ['Action', 'Science Fiction', 'Adventure']  118340   \n",
       "127   150000000  ['Action', 'Adventure', 'Science Fiction', 'Th...   76341   \n",
       "...         ...                                                ...     ...   \n",
       "340    98000000                            ['Action', 'Adventure']    1408   \n",
       "839    55000000                      ['History', 'Drama', 'Music']    8818   \n",
       "1939   25000000       ['Action', 'Adventure', 'Fantasy', 'Horror']  168705   \n",
       "1905   25000000         ['Drama', 'Horror', 'Mystery', 'Thriller']   43931   \n",
       "3212    9250000                      ['Drama', 'Music', 'Romance']   16323   \n",
       "\n",
       "      popularity                               production_countries  \\\n",
       "546   875.581305                       ['United States of America']   \n",
       "95    724.247784  ['Canada', 'United States of America', 'United...   \n",
       "788   514.569956                       ['United States of America']   \n",
       "94    481.098624     ['United Kingdom', 'United States of America']   \n",
       "127   434.278564          ['Australia', 'United States of America']   \n",
       "...          ...                                                ...   \n",
       "340     7.029308  ['France', 'Germany', 'Italy', 'United States ...   \n",
       "839     7.027139            ['United States of America', 'Hungary']   \n",
       "1939    7.008216                       ['United States of America']   \n",
       "1905    7.001176                       ['United States of America']   \n",
       "3212    7.000949                       ['United States of America']   \n",
       "\n",
       "     release_date     revenue  runtime          spoken_languages  \\\n",
       "546    2015-06-17  1156730962     91.0               ['English']   \n",
       "95     2014-11-05   675120017    169.0               ['English']   \n",
       "788    2016-02-09   783112979    108.0               ['English']   \n",
       "94     2014-07-30   773328629    121.0               ['English']   \n",
       "127    2015-05-13   378858340    120.0               ['English']   \n",
       "...           ...         ...      ...                       ...   \n",
       "340    1995-12-22    10017322    119.0      ['English', 'Latin']   \n",
       "839    1996-12-14   141047179    134.0    ['English', 'Español']   \n",
       "1939   2005-10-22     2405420     95.0  ['English', 'Português']   \n",
       "1905   2010-10-08    19829957    107.0               ['English']   \n",
       "3212   1979-11-07    29174648    125.0               ['English']   \n",
       "\n",
       "                        title  vote_average  vote_count   DateTime  \\\n",
       "546                   Minions           6.4        4571 2015-06-17   \n",
       "95               Interstellar           8.1       10867 2014-11-05   \n",
       "788                  Deadpool           7.4       10995 2016-02-09   \n",
       "94    Guardians of the Galaxy           7.9        9742 2014-07-30   \n",
       "127        Mad Max: Fury Road           7.2        9427 2015-05-13   \n",
       "...                       ...           ...         ...        ...   \n",
       "340          Cutthroat Island           5.7         136 1995-12-22   \n",
       "839                     Evita           5.9         120 1996-12-14   \n",
       "1939               BloodRayne           3.5         118 2005-10-22   \n",
       "1905          My Soul to Take           5.2         147 2010-10-08   \n",
       "3212                 The Rose           6.8          28 1979-11-07   \n",
       "\n",
       "      DateTime_year  \n",
       "546            2015  \n",
       "95             2014  \n",
       "788            2016  \n",
       "94             2014  \n",
       "127            2015  \n",
       "...             ...  \n",
       "340            1995  \n",
       "839            1996  \n",
       "1939           2005  \n",
       "1905           2010  \n",
       "3212           1979  \n",
       "\n",
       "[2707 rows x 14 columns]"
      ]
     },
     "execution_count": 169,
     "metadata": {},
     "output_type": "execute_result"
    }
   ],
   "source": [
    "# Code here\n",
    "\n",
    "popularity_column = movies_df.sort_values('popularity', ascending=False)\n",
    "\n",
    "popularity_column.loc[:, ['title', 'popularity']]\n",
    "\n",
    "# Movies that have populatory above 7\n",
    "\n",
    "popularity_7 = popularity_column[popularity_column.popularity > 7]\n",
    "\n",
    "popularity_7\n"
   ]
  },
  {
   "cell_type": "markdown",
   "metadata": {},
   "source": [
    "#### Which year did we have the most profitable movies?\n",
    "This will help to raise some deeper questions about the years when movies didn’t do well. These are preliminary questions which give rise to questions providing deeper insights."
   ]
  },
  {
   "cell_type": "code",
   "execution_count": 187,
   "metadata": {},
   "outputs": [
    {
     "data": {
      "text/plain": [
       "DateTime_year\n",
       "2014    24047236072\n",
       "2012    23774442705\n",
       "2013    23082302721\n",
       "2015    22477341942\n",
       "2009    20930292851\n",
       "           ...     \n",
       "1933        4481000\n",
       "1929        4358000\n",
       "1935        3202000\n",
       "1927         650422\n",
       "1932             25\n",
       "Name: revenue, Length: 89, dtype: int64"
      ]
     },
     "execution_count": 187,
     "metadata": {},
     "output_type": "execute_result"
    }
   ],
   "source": [
    "# Code here\n",
    "\n",
    "year_group = movies_df['revenue'].groupby(movies_df['DateTime_year']).sum()\n",
    "\n",
    "year_group.sort_values(ascending=False)"
   ]
  },
  {
   "cell_type": "markdown",
   "metadata": {},
   "source": [
    "#### Most successful genres — create a bar plot explaining the frequency of movies in each genre."
   ]
  },
  {
   "cell_type": "code",
   "execution_count": 532,
   "metadata": {},
   "outputs": [
    {
     "data": {
      "image/png": "[encoded data removed]",
      "text/plain": [
       "<Figure size 432x288 with 1 Axes>"
      ]
     },
     "metadata": {
      "needs_background": "light"
     },
     "output_type": "display_data"
    }
   ],
   "source": [
    " # Code here\n",
    "    \n",
    "split_genres = pd.DataFrame(genres.str.split(\"'\").tolist(), index=genres).stack()\n",
    "split_genres = new_df.reset_index([0])\n",
    "split_genres = split_genres[0]\n",
    "split_genres = split_genres[split_genres != ',']\n",
    "split_genres = genres_column.replace(['[',']',', '],\"\")\n",
    "\n",
    "genre_df['genres'] = pd.DataFrame(split_genres)\n",
    "\n",
    "indexNames = genre_df[genre_df['genres'] == '' ].index\n",
    "genre_df.drop(indexNames , inplace=True)\n",
    "\n",
    "plt.hist(genre_df['genres'], 20, density =1,facecolor=\"blue\", alpha=0.7)\n",
    "plt.xticks(rotation='vertical')\n",
    "plt.show()"
   ]
  },
  {
   "cell_type": "code",
   "execution_count": 546,
   "metadata": {},
   "outputs": [
    {
     "data": {
      "image/png": "[encoded data removed]",
      "text/plain": [
       "<Figure size 1440x720 with 1 Axes>"
      ]
     },
     "metadata": {
      "needs_background": "light"
     },
     "output_type": "display_data"
    }
   ],
   "source": [
    "#### Generate three different interesting visualizations with a data story.\n",
    "\n",
    "# Visualization 1 - Movies Released per double decade\n",
    "\n",
    "movies_df['year_group'] = pd.cut(movies_df['DateTime_year'], [1900, 1920, 1940, 1960, 1980, 2000, 2020], \n",
    "                   labels=['1900 - 1920', '1920 - 1940', '1940 - 1960','1960 - 1980','1980 - 2000','2000 - 2020'])\n",
    "\n",
    "fig = plt.figure(figsize=(20,10))\n",
    "sns.countplot(y=movies_df['year_group'], data=movies_df);"
   ]
  },
  {
   "cell_type": "code",
   "execution_count": 547,
   "metadata": {},
   "outputs": [
    {
     "data": {
      "text/plain": [
       "[(1900.0, 2020.0)]"
      ]
     },
     "execution_count": 547,
     "metadata": {},
     "output_type": "execute_result"
    },
    {
     "data": {
      "image/png": "[encoded data removed]",
      "text/plain": [
       "<Figure size 432x288 with 1 Axes>"
      ]
     },
     "metadata": {
      "needs_background": "light"
     },
     "output_type": "display_data"
    }
   ],
   "source": [
    "# Visualization 2 - Line plot representing budget growth over time\n",
    "\n",
    "ax = sns.scatterplot(x=\"DateTime_year\", y=\"budget\",  data=movies_df)\n",
    "ax.set(xlim=(1900, 2020))"
   ]
  },
  {
   "cell_type": "code",
   "execution_count": 558,
   "metadata": {},
   "outputs": [
    {
     "data": {
      "image/png": "[encoded data removed]",
      "text/plain": [
       "<Figure size 360x360 with 1 Axes>"
      ]
     },
     "metadata": {
      "needs_background": "light"
     },
     "output_type": "display_data"
    }
   ],
   "source": [
    "# Visualization 3 - \n",
    "\n",
    "ax = sns.lmplot(x=\"runtime\", y=\"revenue\", order=2, data=movies_df)"
   ]
  },
  {
   "cell_type": "markdown",
   "metadata": {},
   "source": [
    "# Now that you know how to Explore a Dataset, it's time for you to do it from start to end. Please find the Automobile Dataset in your task folder. \n",
    "\n",
    "### You are expected to create a report ('eda.docx' provides a template for what this report should look like) in which you explain your visualizations, investigations and findings. The Code for the Analysis should be in a jupyter notebook named automobile.ipynb.\n",
    "\n",
    "## Be creative :)"
   ]
  },
  {
   "cell_type": "code",
   "execution_count": null,
   "metadata": {},
   "outputs": [],
   "source": []
  }
 ],
 "metadata": {
  "kernelspec": {
   "display_name": "Python 3",
   "language": "python",
   "name": "python3"
  },
  "language_info": {
   "codemirror_mode": {
    "name": "ipython",
    "version": 3
   },
   "file_extension": ".py",
   "mimetype": "text/x-python",
   "name": "python",
   "nbconvert_exporter": "python",
   "pygments_lexer": "ipython3",
   "version": "3.7.4"
  }
 },
 "nbformat": 4,
 "nbformat_minor": 2
}
